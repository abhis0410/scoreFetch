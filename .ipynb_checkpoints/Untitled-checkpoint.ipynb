{
 "cells": [
  {
   "cell_type": "code",
   "execution_count": 1,
   "id": "5cb8fb70-43f0-4ca3-a374-97f1d0a6dbdf",
   "metadata": {},
   "outputs": [],
   "source": [
    "import os\n",
    "import requests"
   ]
  },
  {
   "cell_type": "code",
   "execution_count": 2,
   "id": "0e712b47-1640-4a92-b660-8752e72aab42",
   "metadata": {},
   "outputs": [],
   "source": [
    "list_url = \"https://firebasestorage.googleapis.com/v0/b/iism2024.appspot.com/o\""
   ]
  },
  {
   "cell_type": "code",
   "execution_count": null,
   "id": "8d45a9b2-27f2-4c80-b48c-9fdb16253b9f",
   "metadata": {},
   "outputs": [],
   "source": [
    "# Function to list files from the bucket\n",
    "def list_files():\n",
    "    params = {\n",
    "        \"prefix\": \"\",  # Leave empty to list all files in the bucket\n",
    "        \"delimiter\": \"/\",  # To group by folder structure\n",
    "        \"pageSize\": 1000,  # You can increase the page size if there are many files\n",
    "    }\n",
    "    response = requests.get(list_url, params=params)\n",
    "    \n",
    "    if response.status_code == 200:\n",
    "        data = response.json()\n",
    "        return data.get('items', [])\n",
    "    else:\n",
    "        print(f\"Failed to retrieve file list, status code: {response.status_code}\")\n",
    "        return []\n",
    "\n",
    "# Function to download an image\n",
    "def download_image(file_name):\n",
    "    download_url = f\"https://firebasestorage.googleapis.com/v0/b/iism2024.appspot.com/o/{file_name}?alt=media\"\n",
    "    response = requests.get(download_url)\n",
    "    \n",
    "    if response.status_code == 200:\n",
    "        image_name = os.path.basename(file_name)\n",
    "        local_path = os.path.join(download_dir, image_name)\n",
    "        with open(local_path, 'wb') as file:\n",
    "            file.write(response.content)\n",
    "        print(f\"Downloaded: {image_name}\")\n",
    "    else:\n",
    "        print(f\"Failed to download {file_name}, status code: {response.status_code}\")\n",
    "\n",
    "# Create a directory to save the downloaded images\n",
    "download_dir = 'downloaded_images'\n",
    "if not os.path.exists(download_dir):\n",
    "    os.makedirs(download_dir)\n",
    "\n",
    "# List all files in the Firebase storage\n",
    "files = list_files()\n",
    "\n",
    "# Download all the images\n",
    "for file in files:\n",
    "    if file.get('name').endswith(('.png', '.jpg', '.jpeg')):  # Filter for image files\n",
    "        download_image(file['name'])"
   ]
  }
 ],
 "metadata": {
  "kernelspec": {
   "display_name": "Python 3 (ipykernel)",
   "language": "python",
   "name": "python3"
  },
  "language_info": {
   "codemirror_mode": {
    "name": "ipython",
    "version": 3
   },
   "file_extension": ".py",
   "mimetype": "text/x-python",
   "name": "python",
   "nbconvert_exporter": "python",
   "pygments_lexer": "ipython3",
   "version": "3.11.7"
  }
 },
 "nbformat": 4,
 "nbformat_minor": 5
}
